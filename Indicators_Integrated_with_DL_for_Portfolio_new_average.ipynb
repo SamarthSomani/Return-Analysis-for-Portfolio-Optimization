{
  "nbformat": 4,
  "nbformat_minor": 0,
  "metadata": {
    "colab": {
      "provenance": []
    },
    "kernelspec": {
      "name": "python3",
      "display_name": "Python 3"
    },
    "language_info": {
      "name": "python"
    }
  },
  "cells": [
    {
      "cell_type": "markdown",
      "source": [
        "1] RSI\n",
        "\n",
        "2] Stochastic Oscillator"
      ],
      "metadata": {
        "id": "reBW-1Csqccc"
      }
    },
    {
      "cell_type": "code",
      "execution_count": null,
      "metadata": {
        "id": "PycYZAFZlm9c"
      },
      "outputs": [],
      "source": [
        "import numpy as np\n",
        "import pandas as pd\n",
        "import matplotlib.pyplot as plt\n",
        "import math"
      ]
    },
    {
      "cell_type": "code",
      "source": [
        "df = pd.read_csv('/content/drive/MyDrive/OMF_data_final/uploaded_data_2/Dataset_2_csv.csv')\n",
        "df = df[df.columns[1:]]\n",
        "df = df.iloc[::-1]"
      ],
      "metadata": {
        "id": "kjdKT7L3uvis"
      },
      "execution_count": null,
      "outputs": []
    },
    {
      "cell_type": "code",
      "source": [
        "prices = df.to_numpy()\n",
        "return_rate = (prices[1:] - prices[:-1])/prices[:-1]"
      ],
      "metadata": {
        "id": "1aLrRejYrXbG"
      },
      "execution_count": null,
      "outputs": []
    },
    {
      "cell_type": "code",
      "source": [
        "window = 30\n",
        "num_days = len(df.index)\n",
        "num_companies = df.columns.size\n",
        "total_rows = num_days - window + 1"
      ],
      "metadata": {
        "id": "17jQM3QBw5OS"
      },
      "execution_count": null,
      "outputs": []
    },
    {
      "cell_type": "code",
      "source": [
        "lr = 0.1\n",
        "num_epochs = 20\n",
        "beta = 0.23"
      ],
      "metadata": {
        "id": "8A-qdnejcPbt"
      },
      "execution_count": null,
      "outputs": []
    },
    {
      "cell_type": "code",
      "source": [
        "w_0_23_df = pd.read_csv('/content/drive/MyDrive/Weights without transaction cost/Weights with 0_23 beta')\n",
        "w_0_23_df = w_0_23_df[:-1]\n",
        "w_0_23_df = w_0_23_df.iloc[:,1:]\n",
        "w_0_23 = w_0_23_df.to_numpy()"
      ],
      "metadata": {
        "id": "AyLrQRwCpTSU"
      },
      "execution_count": null,
      "outputs": []
    },
    {
      "cell_type": "markdown",
      "source": [
        "### **RSI Indicator integrated with the given method:**\n",
        "\n",
        "Mathematically, there are several ways to integrate them. We focus primarily on 2 ideas.\n",
        "\n",
        "1) Buying and selling only when both the indicators agree. i.e., if weight from DLP is +ve and indicator < 30 buy only then and similarly for selling with weight -ve and indicator >70.\n",
        "\n",
        "2) Not buying or selling only when both the indicators totally disagree. i.e., buy if DLP is +ve and indicator < 70 and sell if DLP is -ve and indicator is >30.\n",
        "\n",
        "3) Invest all the money in +ve weights proportional to weights.\n"
      ],
      "metadata": {
        "id": "l24kWBvLmoSu"
      }
    },
    {
      "cell_type": "markdown",
      "source": [
        "**Finding RSI:**"
      ],
      "metadata": {
        "id": "z7cJLYVIv4Rr"
      }
    },
    {
      "cell_type": "code",
      "source": [
        "rsi_ind = []\n",
        "for i in range(window, total_rows):\n",
        "  rsi_for_row = []\n",
        "  rsi_num_days = 14\n",
        "  for assets in  range(num_companies):\n",
        "    avg_gain = 0\n",
        "    avg_loss = 0\n",
        "    for j in range(i-rsi_num_days,i):\n",
        "      if return_rate[j][assets] > 0:\n",
        "        avg_gain += return_rate[j][assets]\n",
        "      else:\n",
        "        avg_loss += abs(return_rate[j][assets])\n",
        "    avg_gain /= rsi_num_days\n",
        "    avg_loss /= rsi_num_days\n",
        "    rs = math.inf\n",
        "    if avg_loss != 0:\n",
        "      rs = avg_gain/avg_loss\n",
        "    rsi_of_asset = 100 - (100/(1+rs))\n",
        "    rsi_for_row.append(rsi_of_asset)\n",
        "  rsi_ind.append(rsi_for_row)"
      ],
      "metadata": {
        "id": "pOTHalVzq_0M"
      },
      "execution_count": null,
      "outputs": []
    },
    {
      "cell_type": "markdown",
      "source": [
        "**Integrating:**"
      ],
      "metadata": {
        "id": "fqUwZagJwFab"
      }
    },
    {
      "cell_type": "code",
      "source": [
        "# Approach 1\n",
        "weights_rsi_1 = []\n",
        "weight_rsi_uninvested_1 = []\n",
        "for i in range(window, total_rows):\n",
        "  cur_w = w_0_23[i-window]\n",
        "  final_w = []\n",
        "  uninv_w = 0\n",
        "  for j in range(num_companies):\n",
        "    if cur_w[j] > 0 and rsi_ind[i-window][j] < 30:\n",
        "      final_w.append(cur_w[j])\n",
        "    elif cur_w[j] < 0 and rsi_ind[i-window][j] > 70:\n",
        "      final_w.append(cur_w[j])\n",
        "    else:\n",
        "      final_w.append(0)\n",
        "      uninv_w += cur_w[j]\n",
        "  weights_rsi_1.append(final_w)\n",
        "  weight_rsi_uninvested_1.append(uninv_w)\n",
        "weights_rsi_1 = np.array(weights_rsi_1)"
      ],
      "metadata": {
        "id": "TKJPpg9rwJXP"
      },
      "execution_count": null,
      "outputs": []
    },
    {
      "cell_type": "code",
      "source": [
        "# Approach 2\n",
        "weights_rsi_2 = []\n",
        "weight_rsi_uninvested_2 = []\n",
        "for i in range(window, total_rows):\n",
        "  cur_w = w_0_23[i-window]\n",
        "  final_w = []\n",
        "  uninv_w = 0\n",
        "  for j in range(num_companies):\n",
        "    if cur_w[j] > 0 and rsi_ind[i-window][j] < 50:\n",
        "      final_w.append(cur_w[j])\n",
        "    elif cur_w[j] < 0 and rsi_ind[i-window][j] > 50:\n",
        "      final_w.append(cur_w[j])\n",
        "    else:\n",
        "      final_w.append(0)\n",
        "      uninv_w += cur_w[j]\n",
        "  weights_rsi_2.append(final_w)\n",
        "  weight_rsi_uninvested_2.append(uninv_w)\n",
        "weights_rsi_2 = np.array(weights_rsi_2)"
      ],
      "metadata": {
        "id": "2FqYQ8tTzQ9_"
      },
      "execution_count": null,
      "outputs": []
    },
    {
      "cell_type": "code",
      "source": [
        "# Approach 3\n",
        "weights_rsi_3 = []\n",
        "# weight_rsi_uninvested_3 = []\n",
        "for i in range(window, total_rows):\n",
        "  cur_w = w_0_23[i-window]\n",
        "  final_w = []\n",
        "  uninv_w = 0\n",
        "  for j in range(num_companies):\n",
        "    if cur_w[j] > 0 and rsi_ind[i-window][j] < 30:\n",
        "      final_w.append(cur_w[j])\n",
        "    else:\n",
        "      final_w.append(0)\n",
        "  sfw = sum(final_w)\n",
        "  if (sfw == 0):\n",
        "    sfw = 1\n",
        "  for j in range(num_companies):\n",
        "    final_w[j] = final_w[j]/sfw\n",
        "  weights_rsi_3.append(final_w)\n",
        "  # weight_rsi_uninvested_1.append(uninv_w)\n",
        "weights_rsi_3 = np.array(weights_rsi_3)"
      ],
      "metadata": {
        "id": "Tf_3mWOfFaYF"
      },
      "execution_count": null,
      "outputs": []
    },
    {
      "cell_type": "markdown",
      "source": [
        "**Actual Returns Comparision:**"
      ],
      "metadata": {
        "id": "Abdw3oOwzzRW"
      }
    },
    {
      "cell_type": "code",
      "source": [
        "return_w_0_23 = []\n",
        "return_app_1 = []\n",
        "return_app_2 = []\n",
        "return_app_3 = []\n",
        "day = []"
      ],
      "metadata": {
        "id": "ijcSpqV80dn5"
      },
      "execution_count": null,
      "outputs": []
    },
    {
      "cell_type": "code",
      "source": [
        "for i in range(window, total_rows):\n",
        "  r_0_23 = w_0_23[i-window]@return_rate[i]\n",
        "  r_app_1 = weights_rsi_1[i-window]@return_rate[i]\n",
        "  r_app_2 = weights_rsi_2[i-window]@return_rate[i]\n",
        "  r_app_3 = weights_rsi_3[i-window]@return_rate[i]\n",
        "\n",
        "  return_w_0_23.append(r_0_23)\n",
        "  return_app_1.append(r_app_1)\n",
        "  return_app_2.append(r_app_2)\n",
        "  return_app_3.append(r_app_3)\n",
        "\n",
        "  day.append(i-window+1)"
      ],
      "metadata": {
        "id": "vVdGvKINzyOO"
      },
      "execution_count": null,
      "outputs": []
    },
    {
      "cell_type": "code",
      "source": [
        "plt.plot(day,return_w_0_23, 'o', markersize = 2, label='0.2', color='green')\n",
        "plt.plot(day,return_app_1, 'o', markersize = 2, label='RSI approach 1', color='orange')\n",
        "plt.plot(day,return_app_2, 'o', markersize = 2, label='RSI approach 2', color='cyan')\n",
        "plt.plot(day,return_app_3, 'o', markersize = 2, label='RSI approach 3', color='red')\n",
        "plt.legend()\n",
        "plt.show()"
      ],
      "metadata": {
        "colab": {
          "base_uri": "https://localhost:8080/",
          "height": 430
        },
        "id": "mft1eZuR1egG",
        "outputId": "51f29e87-a2ea-4083-c124-645c9764d0ba"
      },
      "execution_count": null,
      "outputs": [
        {
          "output_type": "display_data",
          "data": {
            "text/plain": [
              "<Figure size 640x480 with 1 Axes>"
            ],
            "image/png": "[encoded data removed]"
          },
          "metadata": {}
        }
      ]
    },
    {
      "cell_type": "code",
      "source": [
        "print(sum(return_w_0_23))\n",
        "print(sum(return_app_1))\n",
        "print(sum(return_app_2))\n",
        "print(sum(return_app_3))"
      ],
      "metadata": {
        "id": "NWnBA-Tr53mL",
        "colab": {
          "base_uri": "https://localhost:8080/"
        },
        "outputId": "ed2002b2-5eca-4c94-9052-ca60373e18a4"
      },
      "execution_count": null,
      "outputs": [
        {
          "output_type": "stream",
          "name": "stdout",
          "text": [
            "0.25414019881849037\n",
            "0.09925234715686254\n",
            "0.24080115771161448\n",
            "0.07469423651188026\n"
          ]
        }
      ]
    },
    {
      "cell_type": "code",
      "source": [
        "neg_0_23 = 0\n",
        "neg_app_1 = 0\n",
        "neg_app_2 = 0\n",
        "neg_app_3 = 0\n",
        "\n",
        "for ret in return_w_0_23:\n",
        "  if ret < 0:\n",
        "    neg_0_23 += ret\n",
        "for ret in return_app_1:\n",
        "  if ret < 0:\n",
        "    neg_app_1 += ret\n",
        "for ret in return_app_2:\n",
        "  if ret < 0:\n",
        "    neg_app_2 += ret\n",
        "for ret in return_app_3:\n",
        "  if ret < 0:\n",
        "    neg_app_3 += ret\n",
        "\n",
        "print(neg_0_23)\n",
        "print(neg_app_1)\n",
        "print(neg_app_2)\n",
        "print(neg_app_3)"
      ],
      "metadata": {
        "colab": {
          "base_uri": "https://localhost:8080/"
        },
        "id": "TFSMECCUqBms",
        "outputId": "b11a5851-09d6-4bb8-f83d-91a09ef1e7f3"
      },
      "execution_count": null,
      "outputs": [
        {
          "output_type": "stream",
          "name": "stdout",
          "text": [
            "-0.6716155110029504\n",
            "-0.28526515267705066\n",
            "-0.6098428820865662\n",
            "-0.8235731027861165\n"
          ]
        }
      ]
    },
    {
      "cell_type": "markdown",
      "source": [
        "###**Stochastic Oscillator:**"
      ],
      "metadata": {
        "id": "w2eS-8krqysK"
      }
    },
    {
      "cell_type": "markdown",
      "source": [
        "Mathematically, there are several ways to integrate them. We focus primarily on 2 ideas.\n",
        "\n",
        "1) Buying and selling only when both the indicators agree. i.e., if weight from DLP is +ve and indicator < 20 buy only then and similarly for selling with weight -ve and indicator >80.\n",
        "\n",
        "2) Not buying or selling only when both the indicators totally disagree. i.e., buy if DLP is +ve and indicator < 80 and sell if DLP is -ve and indicator is >20."
      ],
      "metadata": {
        "id": "gUbny7I3mOWg"
      }
    },
    {
      "cell_type": "markdown",
      "source": [
        "**Indicator Calculation:**"
      ],
      "metadata": {
        "id": "tkuWDZCRvLGZ"
      }
    },
    {
      "cell_type": "code",
      "source": [
        "so_ind = []\n",
        "for i in range(window+1, total_rows+1):\n",
        "  so_for_row = []\n",
        "  so_num_days = 14\n",
        "  for assets in range(num_companies):\n",
        "    c = prices[i][j]\n",
        "    l_val = min(prices[i-so_num_days:i, j])\n",
        "    h_val = max(prices[i-so_num_days:i, j])\n",
        "    temp = ((c - l_val)*100)/(h_val - l_val)\n",
        "    if temp < 0:\n",
        "      temp = 0\n",
        "    so_for_row.append(temp)\n",
        "  so_ind.append(so_for_row)"
      ],
      "metadata": {
        "id": "a_H6ZEmiqwf-"
      },
      "execution_count": null,
      "outputs": []
    },
    {
      "cell_type": "markdown",
      "source": [
        "**Integrating:**"
      ],
      "metadata": {
        "id": "ga8aAg7zvbdp"
      }
    },
    {
      "cell_type": "code",
      "source": [
        "# Approach 1\n",
        "weights_so_1 = []\n",
        "weight_so_uninvested_1 = []\n",
        "for i in range(window, total_rows):\n",
        "  cur_w = w_0_23[i-window]\n",
        "  final_w = []\n",
        "  uninv_w = 0\n",
        "  for j in range(num_companies):\n",
        "    if cur_w[j] > 0 and so_ind[i-window][j] < 20:\n",
        "      final_w.append(cur_w[j])\n",
        "    elif cur_w[j] < 0 and so_ind[i-window][j] > 80:\n",
        "      final_w.append(cur_w[j])\n",
        "    else:\n",
        "      final_w.append(0)\n",
        "      uninv_w += cur_w[j]\n",
        "  weights_so_1.append(final_w)\n",
        "  weight_so_uninvested_1.append(uninv_w)\n",
        "weights_so_1 = np.array(weights_so_1)"
      ],
      "metadata": {
        "id": "KfOE1VsaHwF1"
      },
      "execution_count": null,
      "outputs": []
    },
    {
      "cell_type": "code",
      "source": [
        "# Approach 2\n",
        "weights_so_2 = []\n",
        "weight_so_uninvested_2 = []\n",
        "for i in range(window, total_rows):\n",
        "  cur_w = w_0_23[i-window]\n",
        "  final_w = []\n",
        "  uninv_w = 0\n",
        "  for j in range(num_companies):\n",
        "    if cur_w[j] > 0 and so_ind[i-window][j] < 80:\n",
        "      final_w.append(cur_w[j])\n",
        "    elif cur_w[j] < 0 and so_ind[i-window][j] > 20:\n",
        "      final_w.append(cur_w[j])\n",
        "    else:\n",
        "      final_w.append(0)\n",
        "      uninv_w += cur_w[j]\n",
        "  weights_so_2.append(final_w)\n",
        "  weight_so_uninvested_2.append(uninv_w)\n",
        "weights_so_2 = np.array(weights_so_2)"
      ],
      "metadata": {
        "id": "n8zu5L9usey-"
      },
      "execution_count": null,
      "outputs": []
    },
    {
      "cell_type": "code",
      "source": [
        "# Approach 3\n",
        "weights_so_3 = []\n",
        "# weight_so_uninvested_1 = []\n",
        "for i in range(window, total_rows):\n",
        "  cur_w = w_0_23[i-window]\n",
        "  final_w = []\n",
        "  uninv_w = 0\n",
        "  for j in range(num_companies):\n",
        "    if cur_w[j] > 0 and so_ind[i-window][j] < 20:\n",
        "      final_w.append(cur_w[j])\n",
        "    else:\n",
        "      final_w.append(0)\n",
        "  sfw = sum(final_w)\n",
        "  if sfw == 0:\n",
        "    sfw = 1\n",
        "  for j in range(num_companies):\n",
        "    final_w[j] /= sfw\n",
        "  weights_so_3.append(final_w)\n",
        "  # weight_so_uninvested_1.append(uninv_w)\n",
        "weights_so_3 = np.array(weights_so_3)"
      ],
      "metadata": {
        "id": "_Mspoee4J4fS"
      },
      "execution_count": null,
      "outputs": []
    },
    {
      "cell_type": "markdown",
      "source": [
        "**Actual Returns Comparison:**"
      ],
      "metadata": {
        "id": "k55XLgk_vkPY"
      }
    },
    {
      "cell_type": "code",
      "source": [
        "return_so_app_1 = []\n",
        "return_so_app_2 = []\n",
        "return_so_app_3 = []"
      ],
      "metadata": {
        "id": "Xp6lv-4qusjt"
      },
      "execution_count": null,
      "outputs": []
    },
    {
      "cell_type": "code",
      "source": [
        "for i in range(window, total_rows):\n",
        "  r_app_1 = weights_so_1[i-window]@return_rate[i]\n",
        "  r_app_2 = weights_so_2[i-window]@return_rate[i]\n",
        "  r_app_3 = weights_so_3[i-window]@return_rate[i]\n",
        "\n",
        "  return_so_app_1.append(r_app_1)\n",
        "  return_so_app_2.append(r_app_2)\n",
        "  return_so_app_3.append(r_app_3)"
      ],
      "metadata": {
        "id": "_P9NEDaSuyXN"
      },
      "execution_count": null,
      "outputs": []
    },
    {
      "cell_type": "code",
      "source": [
        "plt.plot(day,return_w_0_23, 'o', markersize = 2, label='0.23', color='green')\n",
        "plt.plot(day,return_so_app_1, 'o', markersize = 2, label='SO approach 1', color='orange')\n",
        "plt.plot(day,return_so_app_2, 'o', markersize = 2, label='SO approach 2', color='cyan')\n",
        "plt.plot(day,return_so_app_2, 'o', markersize = 2, label='SO approach 3', color='red')\n",
        "plt.legend()\n",
        "plt.show()"
      ],
      "metadata": {
        "colab": {
          "base_uri": "https://localhost:8080/",
          "height": 430
        },
        "id": "3EhrWdLru7VI",
        "outputId": "9292f616-c533-4cd4-ae14-2887b6a879b6"
      },
      "execution_count": null,
      "outputs": [
        {
          "output_type": "display_data",
          "data": {
            "text/plain": [
              "<Figure size 640x480 with 1 Axes>"
            ],
            "image/png": "[encoded data removed]"
          },
          "metadata": {}
        }
      ]
    },
    {
      "cell_type": "code",
      "source": [
        "print(sum(return_w_0_23))\n",
        "print(sum(return_so_app_1))\n",
        "print(sum(return_so_app_2))\n",
        "print(sum(return_so_app_3))"
      ],
      "metadata": {
        "colab": {
          "base_uri": "https://localhost:8080/"
        },
        "id": "gjMYs13uwBvH",
        "outputId": "0d9beeb5-ed73-4014-cc36-c7f8937cefee"
      },
      "execution_count": null,
      "outputs": [
        {
          "output_type": "stream",
          "name": "stdout",
          "text": [
            "0.25414019881849037\n",
            "-0.08749016539221555\n",
            "-0.038050119379809975\n",
            "-0.08749016092344768\n"
          ]
        }
      ]
    },
    {
      "cell_type": "code",
      "source": [
        "neg_0_23 = 0\n",
        "neg_app_1 = 0\n",
        "neg_app_2 = 0\n",
        "neg_app_3 = 0\n",
        "\n",
        "for ret in return_w_0_23:\n",
        "  if ret < 0:\n",
        "    neg_0_23 += ret\n",
        "for ret in return_so_app_1:\n",
        "  if ret < 0:\n",
        "    neg_app_1 += ret\n",
        "for ret in return_so_app_2:\n",
        "  if ret < 0:\n",
        "    neg_app_2 += ret\n",
        "for ret in return_so_app_3:\n",
        "  if ret < 0:\n",
        "    neg_app_3 += ret\n",
        "\n",
        "print(neg_0_23)\n",
        "print(neg_app_1)\n",
        "print(neg_app_2)\n",
        "print(neg_app_3)"
      ],
      "metadata": {
        "id": "6ahn9tCZwyro",
        "colab": {
          "base_uri": "https://localhost:8080/"
        },
        "outputId": "792bf73c-0e4f-452d-8ebb-331e4f228425"
      },
      "execution_count": null,
      "outputs": [
        {
          "output_type": "stream",
          "name": "stdout",
          "text": [
            "-0.6716155110029504\n",
            "-0.16643724025439308\n",
            "-0.4663783125671639\n",
            "-0.1664372354824362\n"
          ]
        }
      ]
    },
    {
      "cell_type": "code",
      "source": [
        "## Optimization for Data Analysis - Stephen J Wright\n",
        "## Multi-gradient descent for multi objective recommender system - N Milojkovic\n",
        "\n",
        "## BFGS"
      ],
      "metadata": {
        "id": "6RIvYJiDtNL7"
      },
      "execution_count": null,
      "outputs": []
    }
  ]
}